{
 "cells": [
  {
   "cell_type": "code",
   "execution_count": 160,
   "metadata": {},
   "outputs": [],
   "source": [
    "import pandas as pd\n",
    "import datetime"
   ]
  },
  {
   "cell_type": "code",
   "execution_count": 161,
   "metadata": {},
   "outputs": [],
   "source": [
    "days_list = [\"الخميس\", \"الجمعة\", \"الاثنين\", \"الأربعاء\",\"السبت\", \"الأحد\", \"الثلاثاء\"]\n",
    "\n",
    "months_dict = {\"يناير\":\"01\",\n",
    "              \"فبراير\":\"02\",\n",
    "              \"مارس\":\"03\",\n",
    "              \"أبريل\":\"04\",\n",
    "              \"ماي\":\"05\",\n",
    "              \"يونيو\":\"06\",\n",
    "              \"يوليوز\":\"07\",\n",
    "              \"غشت\":\"08\",\n",
    "              \"شتنبر\":\"09\",\n",
    "              \"أكتوبر\":\"10\",\n",
    "              \"نونبر\":\"11\",\n",
    "              \"دجنبر\":\"12\",}"
   ]
  },
  {
   "cell_type": "code",
   "execution_count": 162,
   "metadata": {},
   "outputs": [],
   "source": [
    "hes_articles_df = pd.read_csv(\"output/hes_articles.csv\")\n",
    "hes_comments_df = pd.read_csv(\"output/hes_comments.csv\")"
   ]
  },
  {
   "cell_type": "code",
   "execution_count": 163,
   "metadata": {},
   "outputs": [],
   "source": [
    "def parse_date(row, days_list=days_list, months_dict=months_dict):\n",
    "    \n",
    "    for k in days_dict:\n",
    "        if k in row:\n",
    "            row = row.replace(k, '')\n",
    "    \n",
    "    for k, v in months_dict.items():\n",
    "        if k in row:\n",
    "            row = row.replace(k ,v)\n",
    "    return datetime.datetime.strptime(row, ' %d %m %Y - %H:%M')\n",
    "    "
   ]
  },
  {
   "cell_type": "code",
   "execution_count": 164,
   "metadata": {},
   "outputs": [],
   "source": [
    "hes_articles_timestamp = hes_articles_df['timestamp']"
   ]
  },
  {
   "cell_type": "code",
   "execution_count": 165,
   "metadata": {
    "collapsed": true
   },
   "outputs": [
    {
     "name": "stderr",
     "output_type": "stream",
     "text": [
      "<ipython-input-165-4b5c77b67155>:2: SettingWithCopyWarning: \n",
      "A value is trying to be set on a copy of a slice from a DataFrame\n",
      "\n",
      "See the caveats in the documentation: https://pandas.pydata.org/pandas-docs/stable/user_guide/indexing.html#returning-a-view-versus-a-copy\n",
      "  hes_articles_timestamp[i] = str(parse_date(row))\n"
     ]
    }
   ],
   "source": [
    "for i, row in enumerate(hes_articles_timestamp):\n",
    "    hes_articles_timestamp[i] = str(parse_date(row))"
   ]
  },
  {
   "cell_type": "code",
   "execution_count": 166,
   "metadata": {},
   "outputs": [],
   "source": [
    "hes_comments_timestamp = hes_comments_df['comment_timestamp']"
   ]
  },
  {
   "cell_type": "code",
   "execution_count": 167,
   "metadata": {
    "collapsed": true
   },
   "outputs": [
    {
     "name": "stderr",
     "output_type": "stream",
     "text": [
      "<ipython-input-167-d110d7756f00>:2: SettingWithCopyWarning: \n",
      "A value is trying to be set on a copy of a slice from a DataFrame\n",
      "\n",
      "See the caveats in the documentation: https://pandas.pydata.org/pandas-docs/stable/user_guide/indexing.html#returning-a-view-versus-a-copy\n",
      "  hes_comments_timestamp[i] = str(parse_date(row))\n"
     ]
    }
   ],
   "source": [
    "for i, row in enumerate(hes_comments_timestamp):\n",
    "    hes_comments_timestamp[i] = str(parse_date(row))"
   ]
  },
  {
   "cell_type": "code",
   "execution_count": 168,
   "metadata": {},
   "outputs": [],
   "source": [
    "hes_articles_df.to_csv(\"output/hes_articles.csv\")\n",
    "hes_comments_df.to_csv(\"output/hes_comments.csv\")"
   ]
  },
  {
   "cell_type": "code",
   "execution_count": null,
   "metadata": {},
   "outputs": [],
   "source": []
  }
 ],
 "metadata": {
  "kernelspec": {
   "display_name": "Python 3",
   "language": "python",
   "name": "python3"
  },
  "language_info": {
   "codemirror_mode": {
    "name": "ipython",
    "version": 3
   },
   "file_extension": ".py",
   "mimetype": "text/x-python",
   "name": "python",
   "nbconvert_exporter": "python",
   "pygments_lexer": "ipython3",
   "version": "3.8.4"
  }
 },
 "nbformat": 4,
 "nbformat_minor": 4
}
